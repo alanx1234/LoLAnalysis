{
 "cells": [
  {
   "cell_type": "markdown",
   "metadata": {},
   "source": [
    "# Summoner Insights: Exploring League of Legends Through Data\n",
    "\n",
    "**Name(s)**: Alan Xia\n",
    "\n",
    "**Website Link**: (your website link)"
   ]
  },
  {
   "cell_type": "code",
   "execution_count": 2,
   "metadata": {
    "ExecuteTime": {
     "end_time": "2019-10-31T23:36:28.652554Z",
     "start_time": "2019-10-31T23:36:27.180520Z"
    }
   },
   "outputs": [],
   "source": [
    "import pandas as pd\n",
    "import numpy as np\n",
    "from pathlib import Path\n",
    "\n",
    "\n",
    "import plotly.express as px\n",
    "pd.options.plotting.backend = 'plotly'\n",
    "\n",
    "from dsc80_utils import * "
   ]
  },
  {
   "cell_type": "markdown",
   "metadata": {},
   "source": [
    "## Step 1: Introduction"
   ]
  },
  {
   "cell_type": "markdown",
   "metadata": {},
   "source": [
    "### **Introduction**\n",
    "\n",
    "League of Legends (LoL) is one of the world's most watched esports, bringing in millions of viewers across the globe every year. In addition, it has also consistently remained as one of the most popular games ever since its initial release in 2009. Each match is a thrilling 5-on-5 battle on Summoner's Rift, a map with three lanes where each team tries to destroy the opposing Nexus in order to win. At the start of every game, players draft from a pool of over 150 unique champions and counting. League of Legends is deeply rooted in strategy and teamwork — even before the game begins, each team has to strategically balance their champion picks across 5 different roles (top lane, jungle, mid lane, bot lane, and support) to not only effectively synergize with each other but also counter the enemy team. When the game starts, players must farm minions and monsters to earn gold, which they can spend on items that upgrade their champion's power. Gaining control over neutral objectives on the map, such as dragons, Baron Nashor, and Rift Herald, can tremendously swing the momentum of the game in favor of one team.\n",
    "\n",
    "League of Legends' competitive scene spans multiple regions, including LCK in Korea, LPL in China, LEC in Europe, LCS in America, and many more. All of these leagues eventually meet each year in the World Championship, which is an esports event watched by over 100 million peak viewers. Each professional match creates a wealth of statistics, including kills, gold earned, objective control, vision score, and more, all of which influence coaches and analysts in shaping in-game tactics. By analyzing match-level statistics, we can attempt to deduce which in-game factors most strongly influence victory over the other team. Understanding these factors holds immense potential for allowing teams to refine their approach to the game, ranging from champion drafting to map control, and ultimately gain a competitive edge through data-driven insights.\n",
    "\n",
    "In this project, we analyze a season's worth of professional match data from Oracle's Elixir, which contains a total of 150588 observations. Although the dataset includes a plethora of different in-game statistics, we will narrow our focus to only a subset of the available columns. Here is a brief description of the relevant columns for this analysis:\n",
    "\n",
    "- `gameid`: Unique identifier for each match, used to distinguish rows belonging to different games.\n",
    "- `league`: The regional league or tournament in which the match was played (e.g. LCK, LPL, LEC, LCS, etc.).\n",
    "- `position`: Role or lane played by the team or player (`top`, `jng`, `mid`, `bot`, `sup`, or `team` for aggregated data).\n",
    "- `kills`: Number of enemy champions eliminated during the match.\n",
    "- `assists`: Number of assists credited by participating in kills without getting the final blow.\n",
    "- `deaths`: Number of times player (or team) was eliminated by enemy champions.\n",
    "- `cspm`: Average creep score (minions killed) per minute.\n",
    "- `monsterkills`: Total neutral monsters (jungle camps, monsters like Dragon or Baron) slain.\n",
    "- `minionkills`: Total minions killed over the course of the game.\n",
    "- `damagetochampions`: Total damage dealt to enemy champions during the match.\n",
    "- `firstbaron`: Binary indicator (`1`/`0`) for whether the team secured the first Baron Nashor kill in the  match.\n",
    "- `dragons`: Total number of dragon kills secured during the match. \n",
    "- `result`: Match outcome for the team (`1` = win; `0` = loss).\n",
    "\n",
    "The primary objective of this project will be to predict match outcome (`result`) using the in-game statistics listed above. Specifically, we will examine which of the following factors are the strongest predictors of a team's chance to win:\n",
    "- individual performance (`kills`, `deaths`, `assists`, `cspm`, `damagetochampions`)\n",
    "- objective control (`monsterkills`, `minionkills`, `firstbaron`, `dragons`)\n",
    "\n",
    "To accomplish this, we will:\n",
    "1. Clean and explore these columns to understand their distributions and pairwise relationships with `result`.\n",
    "2. Train a classification model using these features to predict `result`.\n",
    "3. Assess the importance of each feature to identify which in-game factors are the best predictors of victory.\n",
    "\n",
    "By the end of this analysis, we'll be able to determine how much each metric correlates with winning as well as which ones carry the most weight when predicting match outcomes in professional League of Legends scene.\n"
   ]
  },
  {
   "cell_type": "markdown",
   "metadata": {},
   "source": [
    "## Step 2: Data Cleaning and Exploratory Data Analysis"
   ]
  },
  {
   "cell_type": "markdown",
   "metadata": {},
   "source": [
    "### **Data Cleaning**\n",
    "To begin, we should first filter the dataset to keep only the relevant columns. Since we should model at the team level, we should drop any rows where `position == \"team\"`, as these represent aggregated team summaries instead of individual players."
   ]
  },
  {
   "cell_type": "code",
   "execution_count": 20,
   "metadata": {
    "ExecuteTime": {
     "end_time": "2019-10-31T23:36:28.657068Z",
     "start_time": "2019-10-31T23:36:28.654650Z"
    }
   },
   "outputs": [
    {
     "data": {
      "text/html": [
       "<div>\n",
       "<style scoped>\n",
       "    .dataframe tbody tr th:only-of-type {\n",
       "        vertical-align: middle;\n",
       "    }\n",
       "\n",
       "    .dataframe tbody tr th {\n",
       "        vertical-align: top;\n",
       "    }\n",
       "\n",
       "    .dataframe thead th {\n",
       "        text-align: right;\n",
       "    }\n",
       "</style>\n",
       "<table border=\"1\" class=\"dataframe\">\n",
       "  <thead>\n",
       "    <tr style=\"text-align: right;\">\n",
       "      <th></th>\n",
       "      <th>gameid</th>\n",
       "      <th>league</th>\n",
       "      <th>position</th>\n",
       "      <th>kills</th>\n",
       "      <th>...</th>\n",
       "      <th>firstbaron</th>\n",
       "      <th>dragons</th>\n",
       "      <th>gamelength</th>\n",
       "      <th>result</th>\n",
       "    </tr>\n",
       "  </thead>\n",
       "  <tbody>\n",
       "    <tr>\n",
       "      <th>0</th>\n",
       "      <td>ESPORTSTMNT01_2690210</td>\n",
       "      <td>LCKC</td>\n",
       "      <td>team</td>\n",
       "      <td>9</td>\n",
       "      <td>...</td>\n",
       "      <td>0.0</td>\n",
       "      <td>1.0</td>\n",
       "      <td>1713</td>\n",
       "      <td>0</td>\n",
       "    </tr>\n",
       "    <tr>\n",
       "      <th>1</th>\n",
       "      <td>ESPORTSTMNT01_2690210</td>\n",
       "      <td>LCKC</td>\n",
       "      <td>team</td>\n",
       "      <td>19</td>\n",
       "      <td>...</td>\n",
       "      <td>0.0</td>\n",
       "      <td>3.0</td>\n",
       "      <td>1713</td>\n",
       "      <td>1</td>\n",
       "    </tr>\n",
       "    <tr>\n",
       "      <th>2</th>\n",
       "      <td>ESPORTSTMNT01_2690219</td>\n",
       "      <td>LCKC</td>\n",
       "      <td>team</td>\n",
       "      <td>3</td>\n",
       "      <td>...</td>\n",
       "      <td>0.0</td>\n",
       "      <td>1.0</td>\n",
       "      <td>2114</td>\n",
       "      <td>0</td>\n",
       "    </tr>\n",
       "    <tr>\n",
       "      <th>...</th>\n",
       "      <td>...</td>\n",
       "      <td>...</td>\n",
       "      <td>...</td>\n",
       "      <td>...</td>\n",
       "      <td>...</td>\n",
       "      <td>...</td>\n",
       "      <td>...</td>\n",
       "      <td>...</td>\n",
       "      <td>...</td>\n",
       "    </tr>\n",
       "    <tr>\n",
       "      <th>25095</th>\n",
       "      <td>9687-9687_game_4</td>\n",
       "      <td>DCup</td>\n",
       "      <td>team</td>\n",
       "      <td>7</td>\n",
       "      <td>...</td>\n",
       "      <td>NaN</td>\n",
       "      <td>1.0</td>\n",
       "      <td>2111</td>\n",
       "      <td>0</td>\n",
       "    </tr>\n",
       "    <tr>\n",
       "      <th>25096</th>\n",
       "      <td>9687-9687_game_5</td>\n",
       "      <td>DCup</td>\n",
       "      <td>team</td>\n",
       "      <td>8</td>\n",
       "      <td>...</td>\n",
       "      <td>NaN</td>\n",
       "      <td>0.0</td>\n",
       "      <td>1778</td>\n",
       "      <td>0</td>\n",
       "    </tr>\n",
       "    <tr>\n",
       "      <th>25097</th>\n",
       "      <td>9687-9687_game_5</td>\n",
       "      <td>DCup</td>\n",
       "      <td>team</td>\n",
       "      <td>21</td>\n",
       "      <td>...</td>\n",
       "      <td>NaN</td>\n",
       "      <td>4.0</td>\n",
       "      <td>1778</td>\n",
       "      <td>1</td>\n",
       "    </tr>\n",
       "  </tbody>\n",
       "</table>\n",
       "<p>25098 rows × 14 columns</p>\n",
       "</div>"
      ],
      "text/plain": [
       "                      gameid league position  kills  ...  firstbaron  dragons  \\\n",
       "0      ESPORTSTMNT01_2690210   LCKC     team      9  ...         0.0      1.0   \n",
       "1      ESPORTSTMNT01_2690210   LCKC     team     19  ...         0.0      3.0   \n",
       "2      ESPORTSTMNT01_2690219   LCKC     team      3  ...         0.0      1.0   \n",
       "...                      ...    ...      ...    ...  ...         ...      ...   \n",
       "25095       9687-9687_game_4   DCup     team      7  ...         NaN      1.0   \n",
       "25096       9687-9687_game_5   DCup     team      8  ...         NaN      0.0   \n",
       "25097       9687-9687_game_5   DCup     team     21  ...         NaN      4.0   \n",
       "\n",
       "       gamelength  result  \n",
       "0            1713       0  \n",
       "1            1713       1  \n",
       "2            2114       0  \n",
       "...           ...     ...  \n",
       "25095        2111       0  \n",
       "25096        1778       0  \n",
       "25097        1778       1  \n",
       "\n",
       "[25098 rows x 14 columns]"
      ]
     },
     "execution_count": 20,
     "metadata": {},
     "output_type": "execute_result"
    }
   ],
   "source": [
    "df = pd.read_csv('data/data.csv', low_memory = False)\n",
    "df = df[['gameid', 'league', 'position', 'kills', 'assists', 'deaths', 'damagetochampions', 'cspm', 'monsterkills', 'minionkills', 'firstbaron', 'dragons', 'gamelength', 'result']]\n",
    "df = df[df['position'] == 'team'].reset_index(drop=True)\n",
    "df"
   ]
  },
  {
   "cell_type": "markdown",
   "metadata": {},
   "source": []
  },
  {
   "cell_type": "code",
   "execution_count": null,
   "metadata": {},
   "outputs": [],
   "source": []
  },
  {
   "cell_type": "markdown",
   "metadata": {},
   "source": [
    "## Step 3: Assessment of Missingness"
   ]
  },
  {
   "cell_type": "code",
   "execution_count": 4,
   "metadata": {
    "ExecuteTime": {
     "end_time": "2019-10-31T23:36:28.662099Z",
     "start_time": "2019-10-31T23:36:28.660016Z"
    }
   },
   "outputs": [],
   "source": [
    "# TODO"
   ]
  },
  {
   "cell_type": "markdown",
   "metadata": {},
   "source": [
    "## Step 4: Hypothesis Testing"
   ]
  },
  {
   "cell_type": "code",
   "execution_count": 5,
   "metadata": {
    "ExecuteTime": {
     "end_time": "2019-10-31T23:36:28.666489Z",
     "start_time": "2019-10-31T23:36:28.664381Z"
    }
   },
   "outputs": [],
   "source": [
    "# TODO"
   ]
  },
  {
   "cell_type": "markdown",
   "metadata": {},
   "source": [
    "## Step 5: Framing a Prediction Problem"
   ]
  },
  {
   "cell_type": "code",
   "execution_count": 6,
   "metadata": {
    "ExecuteTime": {
     "end_time": "2019-10-31T23:36:28.657068Z",
     "start_time": "2019-10-31T23:36:28.654650Z"
    }
   },
   "outputs": [],
   "source": [
    "# TODO"
   ]
  },
  {
   "cell_type": "markdown",
   "metadata": {},
   "source": [
    "## Step 6: Baseline Model"
   ]
  },
  {
   "cell_type": "code",
   "execution_count": 7,
   "metadata": {
    "ExecuteTime": {
     "end_time": "2019-10-31T23:36:28.662099Z",
     "start_time": "2019-10-31T23:36:28.660016Z"
    }
   },
   "outputs": [],
   "source": [
    "# TODO"
   ]
  },
  {
   "cell_type": "markdown",
   "metadata": {},
   "source": [
    "## Step 7: Final Model"
   ]
  },
  {
   "cell_type": "code",
   "execution_count": 8,
   "metadata": {
    "ExecuteTime": {
     "end_time": "2019-10-31T23:36:28.662099Z",
     "start_time": "2019-10-31T23:36:28.660016Z"
    }
   },
   "outputs": [],
   "source": [
    "# TODO"
   ]
  },
  {
   "cell_type": "markdown",
   "metadata": {},
   "source": [
    "## Step 8: Fairness Analysis"
   ]
  },
  {
   "cell_type": "code",
   "execution_count": 9,
   "metadata": {
    "ExecuteTime": {
     "end_time": "2019-10-31T23:36:28.666489Z",
     "start_time": "2019-10-31T23:36:28.664381Z"
    }
   },
   "outputs": [],
   "source": [
    "# TODO"
   ]
  }
 ],
 "metadata": {
  "kernelspec": {
   "display_name": "dsc80",
   "language": "python",
   "name": "python3"
  },
  "language_info": {
   "codemirror_mode": {
    "name": "ipython",
    "version": 3
   },
   "file_extension": ".py",
   "mimetype": "text/x-python",
   "name": "python",
   "nbconvert_exporter": "python",
   "pygments_lexer": "ipython3",
   "version": "3.12.10"
  }
 },
 "nbformat": 4,
 "nbformat_minor": 4
}
